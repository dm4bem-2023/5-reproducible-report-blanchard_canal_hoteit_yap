{
 "cells": [
  {
   "cell_type": "code",
   "execution_count": 366,
   "metadata": {},
   "outputs": [],
   "source": [
    "import numpy as np\n",
    "import pandas as pd\n",
    "import matplotlib.pyplot as plt\n",
    "import dm4bem"
   ]
  },
  {
   "cell_type": "markdown",
   "metadata": {},
   "source": [
    "Dimensions of the problem"
   ]
  },
  {
   "cell_type": "code",
   "execution_count": 367,
   "metadata": {},
   "outputs": [
    {
     "name": "stdout",
     "output_type": "stream",
     "text": [
      "36 18 9\n"
     ]
    }
   ],
   "source": [
    "H = 3 #height of the room\n",
    "L_1 = 12\n",
    "L_2 = 6 \n",
    "L_3 = 3 \n",
    "L_g = 1 \n",
    "\n",
    "L_door = 1\n",
    "H_door = 2\n",
    "\n",
    "S_glass = L_g**2\n",
    "S_door = L_door * H_door\n",
    "S_wall1 = L_1*H\n",
    "S_wall2 = L_2*H\n",
    "S_wall3 = L_3*H\n",
    "\n",
    "print(S_wall1, S_wall2, S_wall3)"
   ]
  },
  {
   "cell_type": "markdown",
   "metadata": {},
   "source": [
    "Thermal properties of the model"
   ]
  },
  {
   "cell_type": "code",
   "execution_count": 368,
   "metadata": {},
   "outputs": [
    {
     "data": {
      "text/html": [
       "<div>\n",
       "<style scoped>\n",
       "    .dataframe tbody tr th:only-of-type {\n",
       "        vertical-align: middle;\n",
       "    }\n",
       "\n",
       "    .dataframe tbody tr th {\n",
       "        vertical-align: top;\n",
       "    }\n",
       "\n",
       "    .dataframe thead th {\n",
       "        text-align: right;\n",
       "    }\n",
       "</style>\n",
       "<table border=\"1\" class=\"dataframe\">\n",
       "  <thead>\n",
       "    <tr style=\"text-align: right;\">\n",
       "      <th></th>\n",
       "      <th>Density</th>\n",
       "      <th>Specific heat</th>\n",
       "    </tr>\n",
       "  </thead>\n",
       "  <tbody>\n",
       "    <tr>\n",
       "      <th>Air</th>\n",
       "      <td>1.2</td>\n",
       "      <td>1000</td>\n",
       "    </tr>\n",
       "  </tbody>\n",
       "</table>\n",
       "</div>"
      ],
      "text/plain": [
       "     Density  Specific heat\n",
       "Air      1.2           1000"
      ]
     },
     "execution_count": 368,
     "metadata": {},
     "output_type": "execute_result"
    }
   ],
   "source": [
    "air = {'Density': 1.2,                      # kg/m³\n",
    "       'Specific heat': 1000}               # J/(kg·K)\n",
    "# pd.DataFrame.from_dict(air, orient='index', columns=['air'])\n",
    "pd.DataFrame(air, index=['Air'])"
   ]
  },
  {
   "cell_type": "code",
   "execution_count": 369,
   "metadata": {},
   "outputs": [
    {
     "data": {
      "text/html": [
       "<div>\n",
       "<style scoped>\n",
       "    .dataframe tbody tr th:only-of-type {\n",
       "        vertical-align: middle;\n",
       "    }\n",
       "\n",
       "    .dataframe tbody tr th {\n",
       "        vertical-align: top;\n",
       "    }\n",
       "\n",
       "    .dataframe thead th {\n",
       "        text-align: right;\n",
       "    }\n",
       "</style>\n",
       "<table border=\"1\" class=\"dataframe\">\n",
       "  <thead>\n",
       "    <tr style=\"text-align: right;\">\n",
       "      <th></th>\n",
       "      <th>Conductivity</th>\n",
       "      <th>Density</th>\n",
       "      <th>Specific heat</th>\n",
       "      <th>Width</th>\n",
       "    </tr>\n",
       "  </thead>\n",
       "  <tbody>\n",
       "    <tr>\n",
       "      <th>Wall</th>\n",
       "      <td>1.4</td>\n",
       "      <td>2300.0</td>\n",
       "      <td>880</td>\n",
       "      <td>0.10</td>\n",
       "    </tr>\n",
       "    <tr>\n",
       "      <th>Glass</th>\n",
       "      <td>1.0</td>\n",
       "      <td>2500.0</td>\n",
       "      <td>1210</td>\n",
       "      <td>0.05</td>\n",
       "    </tr>\n",
       "  </tbody>\n",
       "</table>\n",
       "</div>"
      ],
      "text/plain": [
       "       Conductivity  Density  Specific heat  Width\n",
       "Wall            1.4   2300.0            880   0.10\n",
       "Glass           1.0   2500.0           1210   0.05"
      ]
     },
     "execution_count": 369,
     "metadata": {},
     "output_type": "execute_result"
    }
   ],
   "source": [
    "concrete = {'Conductivity': 1.400,\n",
    "            'Density': 2300.0,\n",
    "            'Specific heat': 880,\n",
    "            'Width': 0.1}\n",
    "\n",
    "\n",
    "glass = {'Conductivity': 1,\n",
    "         'Density': 2500,\n",
    "         'Specific heat': 1210,\n",
    "         'Width': 0.05}\n",
    "\n",
    "wood = {'Conductivity': 0.17,\n",
    "         'Density': 500,\n",
    "         'Specific heat': 2500,\n",
    "         'Width': 0.07}\n",
    "\n",
    "wall = pd.DataFrame.from_dict({'Wall': concrete,\n",
    "                               'Glass': glass},\n",
    "                              orient='index')\n",
    "wall"
   ]
  },
  {
   "cell_type": "markdown",
   "metadata": {},
   "source": [
    "Radiative properties"
   ]
  },
  {
   "cell_type": "code",
   "execution_count": 370,
   "metadata": {},
   "outputs": [
    {
     "name": "stdout",
     "output_type": "stream",
     "text": [
      "σ = 5.67e-08 W/(m²⋅K⁴)\n"
     ]
    }
   ],
   "source": [
    "# radiative properties\n",
    "ε_wLW = 0.85    # long wave emmisivity: wall surface (concrete)\n",
    "ε_gLW = 0.90    # long wave emmisivity: glass pyrex\n",
    "α_wSW = 0.25    # short wave absortivity: white smooth surface\n",
    "α_gSW = 0.38    # short wave absortivity: reflective blue glass\n",
    "τ_gSW = 0.30    # short wave transmitance: reflective blue glass\n",
    "\n",
    "σ = 5.67e-8     # W/(m²⋅K⁴) Stefan-Bolzmann constant\n",
    "print(f'σ = {σ} W/(m²⋅K⁴)')"
   ]
  },
  {
   "cell_type": "markdown",
   "metadata": {},
   "source": [
    "Convection coefficients"
   ]
  },
  {
   "cell_type": "code",
   "execution_count": 371,
   "metadata": {},
   "outputs": [],
   "source": [
    "convection_coeff = {'h_in': 4,\n",
    "                    'h_out': 10}\n"
   ]
  },
  {
   "cell_type": "markdown",
   "metadata": {},
   "source": [
    "Conductances for conduction"
   ]
  },
  {
   "cell_type": "code",
   "execution_count": 372,
   "metadata": {},
   "outputs": [],
   "source": [
    "G_cd1 = (glass['Conductivity']*S_glass)/glass['Width']\n",
    "\n",
    "G_cd2 = G_cd3 = ((concrete['Conductivity']*S_wall1)/concrete['Width'])*0.5\n",
    "G_cd4 = G_cd5 = ((concrete['Conductivity']*S_wall2)/concrete['Width'])*0.5\n",
    "\n",
    "G_cd6 = ((wood['Conductivity']*S_door)/wood['Width'])\n",
    "\n",
    "G_cd9 = G_cd8 = ((concrete['Conductivity']*S_wall3)/concrete['Width'])*0.5\n",
    "\n",
    "G_cd7 = (glass['Conductivity']*S_glass)/glass['Width']"
   ]
  },
  {
   "cell_type": "markdown",
   "metadata": {},
   "source": [
    "Conductances for convection"
   ]
  },
  {
   "cell_type": "code",
   "execution_count": 373,
   "metadata": {},
   "outputs": [],
   "source": [
    "G_cv1 = S_glass * convection_coeff['h_out']\n",
    "G_cv2 = S_glass * convection_coeff['h_in']\n",
    "\n",
    "G_cv3 = S_wall1 * convection_coeff['h_out']\n",
    "G_cv4 = S_wall1 * convection_coeff['h_in']\n",
    "\n",
    "G_cv5 = G_cv6 = S_wall2 * convection_coeff['h_in']\n",
    "\n",
    "G_cv7 = S_glass * convection_coeff['h_out']\n",
    "G_cv8 = S_glass * convection_coeff['h_in']\n",
    "\n",
    "G_cv9 = S_wall3 * convection_coeff['h_out']\n",
    "G_cv10 = S_wall3 * convection_coeff['h_in']"
   ]
  },
  {
   "cell_type": "markdown",
   "metadata": {},
   "source": [
    "Conductances for Advection"
   ]
  },
  {
   "cell_type": "code",
   "execution_count": 374,
   "metadata": {},
   "outputs": [],
   "source": [
    "Va_1 = (L_2**2) * H  #volume of air in room 1 \n",
    "Va_2 = L_2 * L_3 * H #volume of air in room 2 \n",
    "ACH = 1 # 1 volume changed per hour\n",
    "\n",
    "G_adv1 = air['Specific heat'] * air['Density'] * ((ACH * Va_1)/3600)\n",
    "G_adv2 = air['Specific heat'] * air['Density'] * ((ACH * Va_2)/3600)"
   ]
  },
  {
   "cell_type": "markdown",
   "metadata": {},
   "source": [
    "Wall Capacities"
   ]
  },
  {
   "cell_type": "code",
   "execution_count": 375,
   "metadata": {},
   "outputs": [],
   "source": [
    "C_wall1 = S_wall1 * concrete['Density'] * concrete['Width'] * concrete['Specific heat']\n",
    "C_wall2 = S_wall2 * concrete['Density'] * concrete['Width'] * concrete['Specific heat']\n",
    "C_wall3 = S_wall3 * concrete['Density'] * concrete['Width'] * concrete['Specific heat']"
   ]
  },
  {
   "cell_type": "markdown",
   "metadata": {},
   "source": [
    "Index Matrix A"
   ]
  },
  {
   "cell_type": "code",
   "execution_count": 376,
   "metadata": {},
   "outputs": [
    {
     "name": "stdout",
     "output_type": "stream",
     "text": [
      "[[ 1.  0.  0.  0.  0.  0.  0.  0.  0.  0.  0.  0.  0.  0.  0.]\n",
      " [-1.  1.  0.  0.  0.  0.  0.  0.  0.  0.  0.  0.  0.  0.  0.]\n",
      " [ 0. -1.  1.  0.  0.  0.  0.  0.  0.  0.  0.  0.  0.  0.  0.]\n",
      " [ 0.  0.  0.  1.  0.  0.  0.  0.  0.  0.  0.  0.  0.  0.  0.]\n",
      " [ 0.  0.  0. -1.  1.  0.  0.  0.  0.  0.  0.  0.  0.  0.  0.]\n",
      " [ 0.  0.  0.  0. -1.  1.  0.  0.  0.  0.  0.  0.  0.  0.  0.]\n",
      " [ 0.  0.  1.  0.  0. -1.  0.  0.  0.  0.  0.  0.  0.  0.  0.]\n",
      " [ 0.  0. -1.  0.  0.  0.  1.  0.  0.  0.  0.  0.  0.  0.  0.]\n",
      " [ 0.  0.  0.  0.  0.  0. -1.  1.  0.  0.  0.  0.  0.  0.  0.]\n",
      " [ 0.  0.  0.  0.  0.  0.  0. -1.  1.  0.  0.  0.  0.  0.  0.]\n",
      " [ 0.  0.  0.  0.  0.  0.  0.  0. -1.  1.  0.  0.  0.  0.  0.]\n",
      " [ 0.  0. -1.  0.  0.  0.  0.  0.  0.  1.  0.  0.  0.  0.  0.]\n",
      " [ 0.  0.  0.  0.  0.  0.  0.  0.  0.  0.  1.  0.  0.  0.  0.]\n",
      " [ 0.  0.  0.  0.  0.  0.  0.  0.  0.  0. -1.  1.  0.  0.  0.]\n",
      " [ 0.  0.  0.  0.  0.  0.  0.  0.  0.  1.  0. -1.  0.  0.  0.]\n",
      " [ 0.  0.  0.  0.  0.  0.  0.  0.  0.  0.  0.  0.  1.  0.  0.]\n",
      " [ 0.  0.  0.  0.  0.  0.  0.  0.  0.  0.  0.  0. -1.  1.  0.]\n",
      " [ 0.  0.  0.  0.  0.  0.  0.  0.  0.  0.  0.  0.  0. -1.  1.]\n",
      " [ 0.  0.  0.  0.  0.  0.  0.  0.  0.  1.  0.  0.  0.  0. -1.]\n",
      " [ 0.  0.  1.  0.  0.  0.  0.  0.  0.  0.  0.  0.  0.  0.  0.]]\n"
     ]
    }
   ],
   "source": [
    "N_nodes = 15\n",
    "N_flows = 20\n",
    "\n",
    "A = np.zeros([N_flows,N_nodes])\n",
    "\n",
    "A[0,0] = A[1,1] = A[2,2] = A[3,3] = A[4,4] = A[5,5] = A[7,6] = A[8,7] = A[9,8] = A[10,9] = A[11,9] = A[12,10] = A[13,11] = A[15,12] = A[16,13] = A[17,14] = A[6,2] = A[19,2] = A[14,9] = A[18,9] = 1\n",
    "A[1,0] = A[2,1] =  A[4,3] = A[5,4] = A[6,5] = A[7,2] = A[8,6] = A[9,7] = A[10,8] = A[11,2] = A[13,10] = A[14,11] = A[16,12] = A[17,13] = A[18,14] = -1\n",
    "print (A)"
   ]
  },
  {
   "cell_type": "markdown",
   "metadata": {},
   "source": [
    "Conductance Matrix G"
   ]
  },
  {
   "cell_type": "code",
   "execution_count": 377,
   "metadata": {},
   "outputs": [
    {
     "name": "stdout",
     "output_type": "stream",
     "text": [
      "[[1.00000000e+01 0.00000000e+00 0.00000000e+00 0.00000000e+00\n",
      "  0.00000000e+00 0.00000000e+00 0.00000000e+00 0.00000000e+00\n",
      "  0.00000000e+00 0.00000000e+00 0.00000000e+00 0.00000000e+00\n",
      "  0.00000000e+00 0.00000000e+00 0.00000000e+00 0.00000000e+00\n",
      "  0.00000000e+00 0.00000000e+00 0.00000000e+00 0.00000000e+00]\n",
      " [0.00000000e+00 2.00000000e+01 0.00000000e+00 0.00000000e+00\n",
      "  0.00000000e+00 0.00000000e+00 0.00000000e+00 0.00000000e+00\n",
      "  0.00000000e+00 0.00000000e+00 0.00000000e+00 0.00000000e+00\n",
      "  0.00000000e+00 0.00000000e+00 0.00000000e+00 0.00000000e+00\n",
      "  0.00000000e+00 0.00000000e+00 0.00000000e+00 0.00000000e+00]\n",
      " [0.00000000e+00 0.00000000e+00 4.00000000e+00 0.00000000e+00\n",
      "  0.00000000e+00 0.00000000e+00 0.00000000e+00 0.00000000e+00\n",
      "  0.00000000e+00 0.00000000e+00 0.00000000e+00 0.00000000e+00\n",
      "  0.00000000e+00 0.00000000e+00 0.00000000e+00 0.00000000e+00\n",
      "  0.00000000e+00 0.00000000e+00 0.00000000e+00 0.00000000e+00]\n",
      " [0.00000000e+00 0.00000000e+00 0.00000000e+00 3.60000000e+02\n",
      "  0.00000000e+00 0.00000000e+00 0.00000000e+00 0.00000000e+00\n",
      "  0.00000000e+00 0.00000000e+00 0.00000000e+00 0.00000000e+00\n",
      "  0.00000000e+00 0.00000000e+00 0.00000000e+00 0.00000000e+00\n",
      "  0.00000000e+00 0.00000000e+00 0.00000000e+00 0.00000000e+00]\n",
      " [0.00000000e+00 0.00000000e+00 0.00000000e+00 0.00000000e+00\n",
      "  2.52000000e+02 0.00000000e+00 0.00000000e+00 0.00000000e+00\n",
      "  0.00000000e+00 0.00000000e+00 0.00000000e+00 0.00000000e+00\n",
      "  0.00000000e+00 0.00000000e+00 0.00000000e+00 0.00000000e+00\n",
      "  0.00000000e+00 0.00000000e+00 0.00000000e+00 0.00000000e+00]\n",
      " [0.00000000e+00 0.00000000e+00 0.00000000e+00 0.00000000e+00\n",
      "  0.00000000e+00 2.52000000e+02 0.00000000e+00 0.00000000e+00\n",
      "  0.00000000e+00 0.00000000e+00 0.00000000e+00 0.00000000e+00\n",
      "  0.00000000e+00 0.00000000e+00 0.00000000e+00 0.00000000e+00\n",
      "  0.00000000e+00 0.00000000e+00 0.00000000e+00 0.00000000e+00]\n",
      " [0.00000000e+00 0.00000000e+00 0.00000000e+00 0.00000000e+00\n",
      "  0.00000000e+00 0.00000000e+00 1.44000000e+02 0.00000000e+00\n",
      "  0.00000000e+00 0.00000000e+00 0.00000000e+00 0.00000000e+00\n",
      "  0.00000000e+00 0.00000000e+00 0.00000000e+00 0.00000000e+00\n",
      "  0.00000000e+00 0.00000000e+00 0.00000000e+00 0.00000000e+00]\n",
      " [0.00000000e+00 0.00000000e+00 0.00000000e+00 0.00000000e+00\n",
      "  0.00000000e+00 0.00000000e+00 0.00000000e+00 7.20000000e+01\n",
      "  0.00000000e+00 0.00000000e+00 0.00000000e+00 0.00000000e+00\n",
      "  0.00000000e+00 0.00000000e+00 0.00000000e+00 0.00000000e+00\n",
      "  0.00000000e+00 0.00000000e+00 0.00000000e+00 0.00000000e+00]\n",
      " [0.00000000e+00 0.00000000e+00 0.00000000e+00 0.00000000e+00\n",
      "  0.00000000e+00 0.00000000e+00 0.00000000e+00 0.00000000e+00\n",
      "  1.26000000e+02 0.00000000e+00 0.00000000e+00 0.00000000e+00\n",
      "  0.00000000e+00 0.00000000e+00 0.00000000e+00 0.00000000e+00\n",
      "  0.00000000e+00 0.00000000e+00 0.00000000e+00 0.00000000e+00]\n",
      " [0.00000000e+00 0.00000000e+00 0.00000000e+00 0.00000000e+00\n",
      "  0.00000000e+00 0.00000000e+00 0.00000000e+00 0.00000000e+00\n",
      "  0.00000000e+00 1.26000000e+02 0.00000000e+00 0.00000000e+00\n",
      "  0.00000000e+00 0.00000000e+00 0.00000000e+00 0.00000000e+00\n",
      "  0.00000000e+00 0.00000000e+00 0.00000000e+00 0.00000000e+00]\n",
      " [0.00000000e+00 0.00000000e+00 0.00000000e+00 0.00000000e+00\n",
      "  0.00000000e+00 0.00000000e+00 0.00000000e+00 0.00000000e+00\n",
      "  0.00000000e+00 0.00000000e+00 7.20000000e+01 0.00000000e+00\n",
      "  0.00000000e+00 0.00000000e+00 0.00000000e+00 0.00000000e+00\n",
      "  0.00000000e+00 0.00000000e+00 0.00000000e+00 0.00000000e+00]\n",
      " [0.00000000e+00 0.00000000e+00 0.00000000e+00 0.00000000e+00\n",
      "  0.00000000e+00 0.00000000e+00 0.00000000e+00 0.00000000e+00\n",
      "  0.00000000e+00 0.00000000e+00 0.00000000e+00 4.85714286e+00\n",
      "  0.00000000e+00 0.00000000e+00 0.00000000e+00 0.00000000e+00\n",
      "  0.00000000e+00 0.00000000e+00 0.00000000e+00 0.00000000e+00]\n",
      " [0.00000000e+00 0.00000000e+00 0.00000000e+00 0.00000000e+00\n",
      "  0.00000000e+00 0.00000000e+00 0.00000000e+00 0.00000000e+00\n",
      "  0.00000000e+00 0.00000000e+00 0.00000000e+00 0.00000000e+00\n",
      "  1.00000000e+01 0.00000000e+00 0.00000000e+00 0.00000000e+00\n",
      "  0.00000000e+00 0.00000000e+00 0.00000000e+00 0.00000000e+00]\n",
      " [0.00000000e+00 0.00000000e+00 0.00000000e+00 0.00000000e+00\n",
      "  0.00000000e+00 0.00000000e+00 0.00000000e+00 0.00000000e+00\n",
      "  0.00000000e+00 0.00000000e+00 0.00000000e+00 0.00000000e+00\n",
      "  0.00000000e+00 2.00000000e+01 0.00000000e+00 0.00000000e+00\n",
      "  0.00000000e+00 0.00000000e+00 0.00000000e+00 0.00000000e+00]\n",
      " [0.00000000e+00 0.00000000e+00 0.00000000e+00 0.00000000e+00\n",
      "  0.00000000e+00 0.00000000e+00 0.00000000e+00 0.00000000e+00\n",
      "  0.00000000e+00 0.00000000e+00 0.00000000e+00 0.00000000e+00\n",
      "  0.00000000e+00 0.00000000e+00 4.00000000e+00 0.00000000e+00\n",
      "  0.00000000e+00 0.00000000e+00 0.00000000e+00 0.00000000e+00]\n",
      " [0.00000000e+00 0.00000000e+00 0.00000000e+00 0.00000000e+00\n",
      "  0.00000000e+00 0.00000000e+00 0.00000000e+00 0.00000000e+00\n",
      "  0.00000000e+00 0.00000000e+00 0.00000000e+00 0.00000000e+00\n",
      "  0.00000000e+00 0.00000000e+00 0.00000000e+00 9.00000000e+01\n",
      "  0.00000000e+00 0.00000000e+00 0.00000000e+00 0.00000000e+00]\n",
      " [0.00000000e+00 0.00000000e+00 0.00000000e+00 0.00000000e+00\n",
      "  0.00000000e+00 0.00000000e+00 0.00000000e+00 0.00000000e+00\n",
      "  0.00000000e+00 0.00000000e+00 0.00000000e+00 0.00000000e+00\n",
      "  0.00000000e+00 0.00000000e+00 0.00000000e+00 0.00000000e+00\n",
      "  6.30000000e+01 0.00000000e+00 0.00000000e+00 0.00000000e+00]\n",
      " [0.00000000e+00 0.00000000e+00 0.00000000e+00 0.00000000e+00\n",
      "  0.00000000e+00 0.00000000e+00 0.00000000e+00 0.00000000e+00\n",
      "  0.00000000e+00 0.00000000e+00 0.00000000e+00 0.00000000e+00\n",
      "  0.00000000e+00 0.00000000e+00 0.00000000e+00 0.00000000e+00\n",
      "  0.00000000e+00 6.30000000e+01 0.00000000e+00 0.00000000e+00]\n",
      " [0.00000000e+00 0.00000000e+00 0.00000000e+00 0.00000000e+00\n",
      "  0.00000000e+00 0.00000000e+00 0.00000000e+00 0.00000000e+00\n",
      "  0.00000000e+00 0.00000000e+00 0.00000000e+00 0.00000000e+00\n",
      "  0.00000000e+00 0.00000000e+00 0.00000000e+00 0.00000000e+00\n",
      "  0.00000000e+00 0.00000000e+00 3.60000000e+01 0.00000000e+00]\n",
      " [0.00000000e+00 0.00000000e+00 0.00000000e+00 0.00000000e+00\n",
      "  0.00000000e+00 0.00000000e+00 0.00000000e+00 0.00000000e+00\n",
      "  0.00000000e+00 0.00000000e+00 0.00000000e+00 0.00000000e+00\n",
      "  0.00000000e+00 0.00000000e+00 0.00000000e+00 0.00000000e+00\n",
      "  0.00000000e+00 0.00000000e+00 0.00000000e+00 1.00000000e+06]]\n"
     ]
    }
   ],
   "source": [
    "G = np.zeros([N_flows,N_flows])\n",
    "\n",
    "G[0,0] = G_cv1\n",
    "G[1,1] = G_cd1\n",
    "G[2,2] = G_cv2\n",
    "G[3,3] = G_cv3\n",
    "G[4,4] = G_cd2\n",
    "G[5,5] = G_cd3\n",
    "G[6,6] = G_cv4\n",
    "G[7,7] = G_cv5\n",
    "G[8,8] = G_cd4\n",
    "G[9,9] = G_cd5\n",
    "G[10,10] = G_cv6\n",
    "G[11,11] = G_cd6\n",
    "G[12,12] = G_cv7\n",
    "G[13,13] = G_cd7\n",
    "G[14,14] = G_cv8\n",
    "G[15,15] = G_cv9\n",
    "G[16,16] = G_cd8\n",
    "G[17,17] = G_cd9\n",
    "G[18,18] = G_cv10\n",
    "G[19,19] = G_0 = 10**6 #supposed infinite for the moment\n",
    "\n",
    "print(G)"
   ]
  },
  {
   "cell_type": "markdown",
   "metadata": {},
   "source": [
    "Capacity Matrix C"
   ]
  },
  {
   "cell_type": "code",
   "execution_count": 378,
   "metadata": {},
   "outputs": [
    {
     "name": "stdout",
     "output_type": "stream",
     "text": [
      "[[      0.       0.       0.       0.       0.       0.       0.       0.\n",
      "        0.       0.       0.       0.       0.       0.       0.]\n",
      " [      0.       0.       0.       0.       0.       0.       0.       0.\n",
      "        0.       0.       0.       0.       0.       0.       0.]\n",
      " [      0.       0.       0.       0.       0.       0.       0.       0.\n",
      "        0.       0.       0.       0.       0.       0.       0.]\n",
      " [      0.       0.       0.       0.       0.       0.       0.       0.\n",
      "        0.       0.       0.       0.       0.       0.       0.]\n",
      " [      0.       0.       0.       0. 7286400.       0.       0.       0.\n",
      "        0.       0.       0.       0.       0.       0.       0.]\n",
      " [      0.       0.       0.       0.       0.       0.       0.       0.\n",
      "        0.       0.       0.       0.       0.       0.       0.]\n",
      " [      0.       0.       0.       0.       0.       0.       0.       0.\n",
      "        0.       0.       0.       0.       0.       0.       0.]\n",
      " [      0.       0.       0.       0.       0.       0.       0. 3643200.\n",
      "        0.       0.       0.       0.       0.       0.       0.]\n",
      " [      0.       0.       0.       0.       0.       0.       0.       0.\n",
      "        0.       0.       0.       0.       0.       0.       0.]\n",
      " [      0.       0.       0.       0.       0.       0.       0.       0.\n",
      "        0.       0.       0.       0.       0.       0.       0.]\n",
      " [      0.       0.       0.       0.       0.       0.       0.       0.\n",
      "        0.       0.       0.       0.       0.       0.       0.]\n",
      " [      0.       0.       0.       0.       0.       0.       0.       0.\n",
      "        0.       0.       0.       0.       0.       0.       0.]\n",
      " [      0.       0.       0.       0.       0.       0.       0.       0.\n",
      "        0.       0.       0.       0.       0.       0.       0.]\n",
      " [      0.       0.       0.       0.       0.       0.       0.       0.\n",
      "        0.       0.       0.       0.       0. 1821600.       0.]\n",
      " [      0.       0.       0.       0.       0.       0.       0.       0.\n",
      "        0.       0.       0.       0.       0.       0.       0.]]\n"
     ]
    }
   ],
   "source": [
    "C = np.zeros([N_nodes, N_nodes])\n",
    "\n",
    "C[4,4] = C_wall1\n",
    "C[7,7] = C_wall2\n",
    "C[13,13] = C_wall3\n",
    "print(C)"
   ]
  },
  {
   "cell_type": "markdown",
   "metadata": {},
   "source": [
    "Flow matrix f"
   ]
  },
  {
   "cell_type": "code",
   "execution_count": 379,
   "metadata": {},
   "outputs": [
    {
     "name": "stdout",
     "output_type": "stream",
     "text": [
      "[1.000e-06 1.000e-06 1.583e+04 1.000e-06 0.000e+00 1.000e-06 1.000e-06\n",
      " 0.000e+00 1.000e-06 8.000e+01 1.000e-06 1.000e-06 1.000e-06 0.000e+00\n",
      " 1.000e-06]\n"
     ]
    }
   ],
   "source": [
    "phi_out , phi_in= 10**(-6) , 10**(-6) #No internal sources of light and we are at night (this value is only taken to have a non null value for simulatio)\n",
    "Q_a1 = Q_a2 = 80 #1 person in each room\n",
    "Q_hvac = α_wSW * 1000 * (S_wall3+S_wall1+S_wall2)\n",
    "f = np.zeros(N_nodes)\n",
    "f[0] = f[3] = f[10] = f[12] = phi_out\n",
    "f[1] = f[5] = f[6] = f[8] = f[11] = f[14] = phi_in\n",
    "f[2] = Q_a1 + Q_hvac\n",
    "f[9] = Q_a2\n",
    "print(f)"
   ]
  },
  {
   "cell_type": "markdown",
   "metadata": {},
   "source": [
    "Temperature source vector b "
   ]
  },
  {
   "cell_type": "code",
   "execution_count": 380,
   "metadata": {},
   "outputs": [],
   "source": [
    "b = np.zeros(N_flows)\n",
    "T_out = 4\n",
    "T_sp = 19\n",
    "\n",
    "b[[0, 3, 12, 15]] = T_out\n",
    "b[19] = T_sp"
   ]
  },
  {
   "cell_type": "markdown",
   "metadata": {},
   "source": [
    "Output vector y"
   ]
  },
  {
   "cell_type": "code",
   "execution_count": 381,
   "metadata": {},
   "outputs": [
    {
     "name": "stdout",
     "output_type": "stream",
     "text": [
      "y =  [0. 0. 1. 0. 0. 0. 0. 0. 0. 1. 0. 0. 0. 0. 0.]\n"
     ]
    }
   ],
   "source": [
    "y = np.zeros(N_nodes)         # nodes\n",
    "y[[2, 9]] = 1              # nodes (temperatures) of interest\n",
    "print(f'y = ', y)"
   ]
  },
  {
   "cell_type": "markdown",
   "metadata": {},
   "source": [
    "Steady State Solution"
   ]
  },
  {
   "cell_type": "code",
   "execution_count": 382,
   "metadata": {},
   "outputs": [
    {
     "name": "stdout",
     "output_type": "stream",
     "text": [
      "θ = [ 7.7537091   9.6305636  19.01483586  6.3618843   9.73600472 13.11012514\n",
      " 17.79645359 17.10023514 16.40401669 15.18563439  6.79640874  8.19461305\n",
      "  5.75953801  8.27316372 10.78678943] °C\n",
      "\n"
     ]
    }
   ],
   "source": [
    "θ = np.linalg.inv(A.T @ G @ A) @ (A.T @ G @ b + f)\n",
    "print(f'θ = {θ} °C')\n",
    "\n",
    "\"\"\"b[[0, 3, 12, 15]] = 1\n",
    "θ_steady_To = np.linalg.inv(A.T @ G @ A) @ (A.T @ G @ b + f)\n",
    "np.set_printoptions(precision=3)\n",
    "print('When To = 1°C, the temperatures in steady-state are:', θ_steady_To, '°C')\n",
    "\n",
    "print(f'The indoor temperature is: {θ_steady_To[-1]:.3f} °C')\n",
    "\"\"\"\n",
    "print()"
   ]
  },
  {
   "cell_type": "markdown",
   "metadata": {},
   "source": [
    "State space representation "
   ]
  },
  {
   "cell_type": "code",
   "execution_count": 383,
   "metadata": {},
   "outputs": [
    {
     "name": "stdout",
     "output_type": "stream",
     "text": [
      "As = \n",
      " [[-3.29193102e-05  6.12922819e-10  1.83901432e-11]\n",
      " [ 1.22584564e-09 -1.75785547e-05  3.78677262e-06]\n",
      " [ 7.35605726e-11  7.57354524e-06 -2.91337082e-05]] \n",
      "\n",
      "Bs = \n",
      " [[3.14363485e-11 2.03441060e-05 2.00686086e-12 0.00000000e+00\n",
      "  1.25745394e-05 3.14363485e-12 4.71545228e-12 1.25745394e-11\n",
      "  5.65114056e-08 8.73403812e-08 4.57255978e-12 2.91907034e-13\n",
      "  8.02744344e-13 2.00686086e-13 3.01029129e-13 0.00000000e+00\n",
      "  2.91907034e-13]\n",
      " [3.34432094e-11 0.00000000e+00 4.13239076e-07 0.00000000e+00\n",
      "  1.33772838e-05 3.34432094e-12 5.01648141e-12 1.33772838e-11\n",
      "  0.00000000e+00 4.86446682e-12 1.74676482e-07 2.34779119e-07\n",
      "  1.65295630e-07 4.13239076e-08 6.19858613e-08 0.00000000e+00\n",
      "  6.01075019e-08]\n",
      " [2.00686086e-12 0.00000000e+00 4.13237069e-07 2.03441060e-05\n",
      "  8.02744344e-07 2.00686086e-13 3.01029129e-13 8.02744344e-13\n",
      "  0.00000000e+00 2.91907034e-13 2.91907034e-13 6.01072100e-08\n",
      "  1.65294827e-07 4.13237069e-08 6.19855603e-08 2.26045622e-07\n",
      "  4.09450445e-07]] \n",
      "\n",
      "Cs = \n",
      " [[9.16231239e-05 4.87361202e-05 1.46227910e-06]\n",
      " [5.84911639e-06 6.02205040e-01 3.01101058e-01]] \n",
      "\n",
      "Ds = \n",
      " [[2.49963880e-06 0.00000000e+00 1.59574108e-07 0.00000000e+00\n",
      "  9.99855519e-01 2.49963880e-07 3.74945820e-07 9.99855519e-07\n",
      "  0.00000000e+00 3.63583825e-07 3.63583825e-07 2.32107793e-08\n",
      "  6.38296431e-08 1.59574108e-08 2.39361162e-08 0.00000000e+00\n",
      "  2.32107793e-08]\n",
      " [1.59574108e-07 0.00000000e+00 3.28582504e-02 0.00000000e+00\n",
      "  6.38296431e-02 1.59574108e-08 2.39361162e-08 6.38296431e-08\n",
      "  0.00000000e+00 2.32107793e-08 2.32107793e-08 4.77938187e-03\n",
      "  1.31433001e-02 3.28582504e-03 4.92873755e-03 0.00000000e+00\n",
      "  4.77938187e-03]] \n",
      "\n"
     ]
    }
   ],
   "source": [
    "[As, Bs, Cs, Ds] = dm4bem.tc2ss(A, G, b, C, f, y)\n",
    "print('As = \\n', As, '\\n')\n",
    "print('Bs = \\n', Bs, '\\n')\n",
    "print('Cs = \\n', Cs, '\\n')\n",
    "print('Ds = \\n', Ds, '\\n')"
   ]
  },
  {
   "cell_type": "markdown",
   "metadata": {},
   "source": [
    "Input vector u"
   ]
  },
  {
   "cell_type": "code",
   "execution_count": 384,
   "metadata": {},
   "outputs": [
    {
     "name": "stdout",
     "output_type": "stream",
     "text": [
      "u = [4.000e+00 4.000e+00 4.000e+00 4.000e+00 1.900e+01 1.000e-06 1.000e-06\n",
      " 1.583e+04 1.000e-06 1.000e-06 1.000e-06 1.000e-06 8.000e+01 1.000e-06\n",
      " 1.000e-06 1.000e-06 1.000e-06]\n"
     ]
    }
   ],
   "source": [
    "bT = np.array([T_out, T_out, T_out, T_out, T_sp])    \n",
    "fQ = np.array([f[0], f[1], f[2], f[3], f[5], f[6], f[8], f[9], f[10], f[11], f[12], f[14]])        # [Φo, Φi, Qa, Φa]\n",
    "u = np.hstack([bT, fQ])\n",
    "print(f'u = {u}')"
   ]
  },
  {
   "cell_type": "markdown",
   "metadata": {},
   "source": [
    "Steady-State value of the output of the state space representation"
   ]
  },
  {
   "cell_type": "code",
   "execution_count": 385,
   "metadata": {},
   "outputs": [
    {
     "name": "stdout",
     "output_type": "stream",
     "text": [
      "yss = [19.01483586 15.18563439] °C\n"
     ]
    }
   ],
   "source": [
    "yss = (-Cs @ np.linalg.inv(As) @ Bs + Ds) @ u\n",
    "print(f'yss = {yss} °C')"
   ]
  },
  {
   "cell_type": "markdown",
   "metadata": {},
   "source": [
    "Dynamic Simulation\n",
    "=================="
   ]
  },
  {
   "cell_type": "markdown",
   "metadata": {},
   "source": [
    "Time Step \n",
    "----"
   ]
  },
  {
   "cell_type": "code",
   "execution_count": 386,
   "metadata": {},
   "outputs": [
    {
     "name": "stdout",
     "output_type": "stream",
     "text": [
      "Time constants: \n",
      " [30377.30717083 64606.43479053 32016.46565827] s \n",
      "\n",
      "2 x Time constants: \n",
      " [ 60754.61434166 129212.86958106  64032.93131654] s \n",
      "\n",
      "Maximum time step: 60754.61 s = 1012.58 min\n"
     ]
    }
   ],
   "source": [
    "λ = np.linalg.eig(As)[0]    # eigenvalues of matrix As\n",
    "\n",
    "print('Time constants: \\n', -1 / λ, 's \\n')\n",
    "print('2 x Time constants: \\n', -2 / λ, 's \\n')\n",
    "dtmax = 2 * min(-1. / λ)\n",
    "print(f'Maximum time step: {dtmax:.2f} s = {dtmax / 60:.2f} min')"
   ]
  },
  {
   "cell_type": "markdown",
   "metadata": {},
   "source": [
    "Our dt_max is relatively big yet not wrong. Indeed, this shows that we have considered big resistances ( as T = RC ) and neglected small capacities compared to others (such as glass). We can thus state that our model is more suited for long term building simulation, and not for instantaneous regulation of temperature. "
   ]
  },
  {
   "cell_type": "markdown",
   "metadata": {},
   "source": []
  },
  {
   "cell_type": "code",
   "execution_count": null,
   "metadata": {},
   "outputs": [],
   "source": []
  }
 ],
 "metadata": {
  "kernelspec": {
   "display_name": "Python 3.9.13 ('base')",
   "language": "python",
   "name": "python3"
  },
  "language_info": {
   "codemirror_mode": {
    "name": "ipython",
    "version": 3
   },
   "file_extension": ".py",
   "mimetype": "text/x-python",
   "name": "python",
   "nbconvert_exporter": "python",
   "pygments_lexer": "ipython3",
   "version": "3.9.13"
  },
  "orig_nbformat": 4,
  "vscode": {
   "interpreter": {
    "hash": "ad2bdc8ecc057115af97d19610ffacc2b4e99fae6737bb82f5d7fb13d2f2c186"
   }
  }
 },
 "nbformat": 4,
 "nbformat_minor": 2
}
